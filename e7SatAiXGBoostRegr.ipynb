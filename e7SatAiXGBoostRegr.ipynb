{
 "cells": [
  {
   "cell_type": "code",
   "execution_count": 1,
   "metadata": {
    "colab": {
     "base_uri": "https://localhost:8080/",
     "height": 459
    },
    "colab_type": "code",
    "id": "OxEHr1bwr0R2",
    "outputId": "8db25b26-3b66-4331-89a8-45fc5bae4daf"
   },
   "outputs": [
    {
     "name": "stdout",
     "output_type": "stream",
     "text": [
      "         lag_11     lag_7     lag_6     lag_3     lag_2     lag_1     state  \\\n",
      "0      0.024181 -0.053836 -0.023294 -0.087671  0.059876  0.032627  0.015672   \n",
      "1      0.001615 -0.023294 -0.063004  0.059876  0.032627  0.075232  0.015672   \n",
      "2      0.002881 -0.063004  0.131306  0.032627  0.075232 -0.021322  0.015672   \n",
      "3      0.093041  0.131306 -0.087671  0.075232 -0.021322 -0.023162  0.015672   \n",
      "4     -0.053836 -0.087671  0.059876 -0.021322 -0.023162 -0.028393  0.015672   \n",
      "...         ...       ...       ...       ...       ...       ...       ...   \n",
      "11259  0.275406 -0.005880 -0.122001  0.264542 -0.021666 -0.160835  0.022000   \n",
      "11260 -0.089079 -0.122001  0.126975 -0.021666 -0.160835  0.041502  0.022000   \n",
      "11261  0.094602  0.126975 -0.166937 -0.160835  0.041502  0.086506  0.022000   \n",
      "11262  0.099610 -0.166937  0.264542  0.041502  0.086506 -0.102456  0.022000   \n",
      "11263 -0.005880  0.264542 -0.021666  0.086506 -0.102456  0.118147  0.022000   \n",
      "\n",
      "         gender       age  \n",
      "0      0.019090  0.016816  \n",
      "1      0.019090  0.016816  \n",
      "2      0.019090  0.016816  \n",
      "3      0.019090  0.016816  \n",
      "4      0.019090  0.016816  \n",
      "...         ...       ...  \n",
      "11259  0.017736  0.026167  \n",
      "11260  0.017736  0.026167  \n",
      "11261  0.017736  0.026167  \n",
      "11262  0.017736  0.026167  \n",
      "11263  0.017736  0.026167  \n",
      "\n",
      "[11264 rows x 9 columns]\n",
      "0        0.075232\n",
      "1       -0.021322\n",
      "2       -0.023162\n",
      "3       -0.028393\n",
      "4        0.028896\n",
      "           ...   \n",
      "11259    0.041502\n",
      "11260    0.086506\n",
      "11261   -0.102456\n",
      "11262    0.118147\n",
      "11263    0.023763\n",
      "Name: wage_increase, Length: 11264, dtype: float64\n"
     ]
    }
   ],
   "source": [
    "# Enable python to import modules from parent directory\n",
    "import sys\n",
    "sys.path.append(\"..\")\n",
    "\n",
    "from src.config import *\n",
    "\n",
    "\n",
    "import pandas as pd\n",
    "\n",
    "data_path = os.path.join(DATA_CLEAN_PATH, \"ml-curated-data.csv\")\n",
    "data = pd.read_csv(data_path, encoding='latin1')\n",
    "\n",
    "from xgboost import XGBRegressor\n",
    "from sklearn.preprocessing import StandardScaler\n",
    "\n",
    "from sklearn.model_selection import train_test_split\n",
    "from sklearn.metrics import r2_score\n",
    "import matplotlib.pyplot as plt\n",
    "\n",
    "target_col = 'wage_increase'\n",
    "features = [c for c in data.columns if c != target_col]\n",
    "\n",
    "df=data.dropna(subset=[target_col])\n",
    "\n",
    "X = df[['lag_11','lag_7','lag_6','lag_3','lag_2','lag_1','state','gender','age']]\n",
    "Y = df['wage_increase']\n",
    "print(X)\n",
    "print(Y)"
   ]
  },
  {
   "cell_type": "code",
   "execution_count": 2,
   "metadata": {
    "colab": {},
    "colab_type": "code",
    "id": "g9mud_s8xh-V"
   },
   "outputs": [],
   "source": [
    "X_train, X_test, y_train, y_test = train_test_split(X,Y,test_size=.3,random_state = 1)"
   ]
  },
  {
   "cell_type": "code",
   "execution_count": 3,
   "metadata": {
    "colab": {
     "base_uri": "https://localhost:8080/",
     "height": 34
    },
    "colab_type": "code",
    "id": "JcXxk9hVxiKT",
    "outputId": "af080809-1c77-4b42-d933-3d78470c8130"
   },
   "outputs": [
    {
     "data": {
      "text/plain": [
       "(7884, 3380)"
      ]
     },
     "execution_count": 3,
     "metadata": {},
     "output_type": "execute_result"
    }
   ],
   "source": [
    "len (X_train), len (X_test), len (y_train), len (y_test)\n",
    "scaler=StandardScaler()\n",
    "scaler.fit(X_train)\n",
    "\n",
    "X_train=scaler.transform(X_train)\n",
    "X_test = scaler.transform(X_test)\n",
    "len(X_train), len(X_test)"
   ]
  },
  {
   "cell_type": "code",
   "execution_count": 4,
   "metadata": {
    "colab": {
     "base_uri": "https://localhost:8080/",
     "height": 173
    },
    "colab_type": "code",
    "id": "bk_3Zd2CVCuy",
    "outputId": "f67fc7a5-ad64-4045-d95c-c7d887409418"
   },
   "outputs": [
    {
     "name": "stdout",
     "output_type": "stream",
     "text": [
      "Fitting 2 folds for each of 27 candidates, totalling 54 fits\n"
     ]
    },
    {
     "name": "stderr",
     "output_type": "stream",
     "text": [
      "[Parallel(n_jobs=5)]: Using backend LokyBackend with 5 concurrent workers.\n",
      "[Parallel(n_jobs=5)]: Done  40 tasks      | elapsed:   55.7s\n",
      "[Parallel(n_jobs=5)]: Done  54 out of  54 | elapsed:  1.4min finished\n",
      "C:\\Users\\Android\\.conda\\envs\\e7satai\\lib\\site-packages\\xgboost\\core.py:587: FutureWarning: Series.base is deprecated and will be removed in a future version\n",
      "  if getattr(data, 'base', None) is not None and \\\n"
     ]
    },
    {
     "name": "stdout",
     "output_type": "stream",
     "text": [
      "0.2536789743963589\n",
      "{'colsample_bytree': 0.7, 'learning_rate': 0.03, 'max_depth': 5, 'min_child_weight': 4, 'n_estimators': 200, 'nthread': 4, 'objective': 'reg:linear', 'silent': 1, 'subsample': 0.7}\n"
     ]
    }
   ],
   "source": [
    "from xgboost.sklearn import XGBRegressor\n",
    "from sklearn.model_selection import GridSearchCV\n",
    "parameters = {'nthread':[4], #when use hyperthread, xgboost may become slower\n",
    "              'objective':['reg:linear'],\n",
    "              'learning_rate': [.03, 0.05, .07], #so called `eta` value\n",
    "              'max_depth': [5, 6, 7],\n",
    "              'min_child_weight': [4],\n",
    "              'silent': [1],\n",
    "              'subsample': [0.7],\n",
    "              'colsample_bytree': [0.7],\n",
    "              'n_estimators': [100,200,500]}\n",
    "xgb1 = XGBRegressor()\n",
    "xgb_grid = GridSearchCV(xgb1,\n",
    "                        parameters,\n",
    "                        cv = 2,\n",
    "                        n_jobs = 5,\n",
    "                        verbose=True)\n",
    "\n",
    "xgb_grid.fit(X_train,y_train)\n",
    "\n",
    "print(xgb_grid.best_score_)\n",
    "print(xgb_grid.best_params_)\n",
    "\n",
    "xbgGS=pd.DataFrame(xgb_grid.cv_results_)\n",
    "len(xbgGS)\n",
    "\n",
    "objs = [xbgGS, pd.DataFrame(xbgGS['params'].tolist()).iloc[:, :2]]\n",
    "results=pd.concat(objs, axis=1).drop('params', axis=1)\n",
    "results.to_csv('XGBRegressionResults.csv')"
   ]
  },
  {
   "cell_type": "code",
   "execution_count": 5,
   "metadata": {
    "colab": {
     "base_uri": "https://localhost:8080/",
     "height": 527
    },
    "colab_type": "code",
    "id": "tNlM49v2V45I",
    "outputId": "4fe802e0-971e-4f75-f1d2-4849be24e706"
   },
   "outputs": [
    {
     "name": "stdout",
     "output_type": "stream",
     "text": [
      "    mean_fit_time  std_fit_time  mean_score_time  std_score_time  \\\n",
      "0        2.567647      0.330519         0.021501        0.002500   \n",
      "1        4.505758      1.396580         0.035502        0.000500   \n",
      "2       10.077076      1.319575         0.087005        0.006000   \n",
      "3        2.500643      0.531530         0.021501        0.000500   \n",
      "4        5.418810      1.878607         0.076004        0.034002   \n",
      "5       12.827734      2.557146         0.127007        0.019001   \n",
      "6        1.256572      0.285516         0.028502        0.000500   \n",
      "7        4.911281      1.726099         0.069004        0.007000   \n",
      "8       16.758459      0.241514         0.127007        0.009000   \n",
      "9        1.830105      0.175010         0.021501        0.001500   \n",
      "10       3.534202      0.528030         0.039002        0.004000   \n",
      "11       9.421539      3.871222         0.099506        0.014501   \n",
      "12       3.295189      2.487142         0.026001        0.004000   \n",
      "13       3.894223      0.551031         0.041502        0.001500   \n",
      "14      10.536603      0.975056         0.117507        0.002500   \n",
      "15       2.003115      0.186011         0.028001        0.003000   \n",
      "16       5.183297      0.086005         0.059503        0.008501   \n",
      "17      15.667896      3.352192         0.151509        0.029502   \n",
      "18       3.026673      1.007558         0.021001        0.001000   \n",
      "19       2.821161      0.009000         0.035502        0.000500   \n",
      "20      11.176639      1.416081         0.110006        0.008000   \n",
      "21       2.556146      0.257015         0.023501        0.000500   \n",
      "22       5.130794      2.119621         0.047503        0.001500   \n",
      "23      13.853292      7.576933         0.135008        0.011001   \n",
      "24       7.606435      0.045002         0.028002        0.001000   \n",
      "25       5.791831      3.074676         0.051503        0.005500   \n",
      "26       9.086520      1.787102         0.136508        0.000500   \n",
      "\n",
      "   param_colsample_bytree param_learning_rate param_max_depth  \\\n",
      "0                     0.7                0.03               5   \n",
      "1                     0.7                0.03               5   \n",
      "2                     0.7                0.03               5   \n",
      "3                     0.7                0.03               6   \n",
      "4                     0.7                0.03               6   \n",
      "5                     0.7                0.03               6   \n",
      "6                     0.7                0.03               7   \n",
      "7                     0.7                0.03               7   \n",
      "8                     0.7                0.03               7   \n",
      "9                     0.7                0.05               5   \n",
      "10                    0.7                0.05               5   \n",
      "11                    0.7                0.05               5   \n",
      "12                    0.7                0.05               6   \n",
      "13                    0.7                0.05               6   \n",
      "14                    0.7                0.05               6   \n",
      "15                    0.7                0.05               7   \n",
      "16                    0.7                0.05               7   \n",
      "17                    0.7                0.05               7   \n",
      "18                    0.7                0.07               5   \n",
      "19                    0.7                0.07               5   \n",
      "20                    0.7                0.07               5   \n",
      "21                    0.7                0.07               6   \n",
      "22                    0.7                0.07               6   \n",
      "23                    0.7                0.07               6   \n",
      "24                    0.7                0.07               7   \n",
      "25                    0.7                0.07               7   \n",
      "26                    0.7                0.07               7   \n",
      "\n",
      "   param_min_child_weight param_n_estimators param_nthread param_objective  \\\n",
      "0                       4                100             4      reg:linear   \n",
      "1                       4                200             4      reg:linear   \n",
      "2                       4                500             4      reg:linear   \n",
      "3                       4                100             4      reg:linear   \n",
      "4                       4                200             4      reg:linear   \n",
      "5                       4                500             4      reg:linear   \n",
      "6                       4                100             4      reg:linear   \n",
      "7                       4                200             4      reg:linear   \n",
      "8                       4                500             4      reg:linear   \n",
      "9                       4                100             4      reg:linear   \n",
      "10                      4                200             4      reg:linear   \n",
      "11                      4                500             4      reg:linear   \n",
      "12                      4                100             4      reg:linear   \n",
      "13                      4                200             4      reg:linear   \n",
      "14                      4                500             4      reg:linear   \n",
      "15                      4                100             4      reg:linear   \n",
      "16                      4                200             4      reg:linear   \n",
      "17                      4                500             4      reg:linear   \n",
      "18                      4                100             4      reg:linear   \n",
      "19                      4                200             4      reg:linear   \n",
      "20                      4                500             4      reg:linear   \n",
      "21                      4                100             4      reg:linear   \n",
      "22                      4                200             4      reg:linear   \n",
      "23                      4                500             4      reg:linear   \n",
      "24                      4                100             4      reg:linear   \n",
      "25                      4                200             4      reg:linear   \n",
      "26                      4                500             4      reg:linear   \n",
      "\n",
      "   param_silent param_subsample  split0_test_score  split1_test_score  \\\n",
      "0             1             0.7           0.185939           0.178259   \n",
      "1             1             0.7           0.244889           0.262469   \n",
      "2             1             0.7           0.230487           0.239450   \n",
      "3             1             0.7           0.183967           0.174822   \n",
      "4             1             0.7           0.237951           0.256148   \n",
      "5             1             0.7           0.221074           0.229699   \n",
      "6             1             0.7           0.180656           0.174569   \n",
      "7             1             0.7           0.234818           0.252202   \n",
      "8             1             0.7           0.216567           0.222831   \n",
      "9             1             0.7           0.242409           0.254755   \n",
      "10            1             0.7           0.239214           0.253735   \n",
      "11            1             0.7           0.216289           0.222209   \n",
      "12            1             0.7           0.234364           0.249976   \n",
      "13            1             0.7           0.226421           0.242655   \n",
      "14            1             0.7           0.201909           0.203086   \n",
      "15            1             0.7           0.234195           0.253472   \n",
      "16            1             0.7           0.229424           0.239327   \n",
      "17            1             0.7           0.197848           0.198184   \n",
      "18            1             0.7           0.235996           0.250474   \n",
      "19            1             0.7           0.223751           0.233048   \n",
      "20            1             0.7           0.195888           0.189080   \n",
      "21            1             0.7           0.228659           0.252630   \n",
      "22            1             0.7           0.220329           0.237179   \n",
      "23            1             0.7           0.184316           0.191015   \n",
      "24            1             0.7           0.225620           0.235319   \n",
      "25            1             0.7           0.213429           0.214565   \n",
      "26            1             0.7           0.183646           0.175461   \n",
      "\n",
      "    mean_test_score  std_test_score  rank_test_score  colsample_bytree  \\\n",
      "0          0.182099        0.003840               24               0.7   \n",
      "1          0.253679        0.008790                1               0.7   \n",
      "2          0.234968        0.004481               10               0.7   \n",
      "3          0.179395        0.004573               26               0.7   \n",
      "4          0.247050        0.009098                3               0.7   \n",
      "5          0.225387        0.004312               16               0.7   \n",
      "6          0.177613        0.003043               27               0.7   \n",
      "7          0.243510        0.008692                6               0.7   \n",
      "8          0.219699        0.003132               17               0.7   \n",
      "9          0.248582        0.006173                2               0.7   \n",
      "10         0.246474        0.007261                4               0.7   \n",
      "11         0.219249        0.002960               18               0.7   \n",
      "12         0.242170        0.007806                8               0.7   \n",
      "13         0.234538        0.008117               11               0.7   \n",
      "14         0.202498        0.000589               20               0.7   \n",
      "15         0.243833        0.009639                5               0.7   \n",
      "16         0.234376        0.004952               12               0.7   \n",
      "17         0.198016        0.000168               21               0.7   \n",
      "18         0.243235        0.007239                7               0.7   \n",
      "19         0.228400        0.004649               15               0.7   \n",
      "20         0.192484        0.003404               22               0.7   \n",
      "21         0.240645        0.011986                9               0.7   \n",
      "22         0.228754        0.008425               14               0.7   \n",
      "23         0.187665        0.003350               23               0.7   \n",
      "24         0.230469        0.004849               13               0.7   \n",
      "25         0.213997        0.000568               19               0.7   \n",
      "26         0.179554        0.004092               25               0.7   \n",
      "\n",
      "    learning_rate  \n",
      "0            0.03  \n",
      "1            0.03  \n",
      "2            0.03  \n",
      "3            0.03  \n",
      "4            0.03  \n",
      "5            0.03  \n",
      "6            0.03  \n",
      "7            0.03  \n",
      "8            0.03  \n",
      "9            0.05  \n",
      "10           0.05  \n",
      "11           0.05  \n",
      "12           0.05  \n",
      "13           0.05  \n",
      "14           0.05  \n",
      "15           0.05  \n",
      "16           0.05  \n",
      "17           0.05  \n",
      "18           0.07  \n",
      "19           0.07  \n",
      "20           0.07  \n",
      "21           0.07  \n",
      "22           0.07  \n",
      "23           0.07  \n",
      "24           0.07  \n",
      "25           0.07  \n",
      "26           0.07  \n"
     ]
    }
   ],
   "source": [
    "print(results)"
   ]
  },
  {
   "cell_type": "code",
   "execution_count": 6,
   "metadata": {
    "colab": {
     "base_uri": "https://localhost:8080/",
     "height": 71
    },
    "colab_type": "code",
    "id": "pvaCs-6Px0s2",
    "outputId": "adbd19e5-d988-41f6-f1d3-ba65b65121a5"
   },
   "outputs": [],
   "source": [
    "#params={'colsample_bytree': 0.7, 'learning_rate': 0.03, 'max_depth': 5, 'min_child_weight': 4, 'n_estimators': 500, 'nthread': 4, 'objective': 'reg:linear', 'silent': 1, 'subsample': 0.7}\n",
    "model=XGBRegressor(**xgb_grid.best_params_)\n",
    "X_train=X_test\n",
    "y_train=y_test\n",
    "model.fit(X_train,y_train)\n",
    "#print(model.score(X_test,y_test))\n",
    "\n",
    "predictions=model.predict(X_train)\n",
    "\n",
    "#from sklearn.metrics import mean_squared_error\n",
    "#from math import sqrt\n",
    "#print(\"R^2: \", r2_score(y_test,predictions))\n",
    "#rms = sqrt(mean_squared_error(y_train, predictions))\n",
    "#print(\"RMS: \", rms)\n",
    "#mse = mean_squared_error(y_train, predictions)\n",
    "#print(\"MSE: \", mse)\n",
    "#len(y_test)"
   ]
  },
  {
   "cell_type": "code",
   "execution_count": 7,
   "metadata": {
    "colab": {
     "base_uri": "https://localhost:8080/",
     "height": 34
    },
    "colab_type": "code",
    "id": "uY8nmm978ClY",
    "outputId": "5dfc1a97-b018-4a13-88f9-e699d232b8f9"
   },
   "outputs": [
    {
     "data": {
      "text/plain": [
       "(0.00029678154656616237, 0.017227348796787112)"
      ]
     },
     "execution_count": 7,
     "metadata": {},
     "output_type": "execute_result"
    }
   ],
   "source": [
    "import numpy as np\n",
    "estimatesGBR = predictions\n",
    "errorGBR = np.asmatrix(y_train.values - estimatesGBR)\n",
    "sme = (errorGBR.T * errorGBR / len(errorGBR)).tolist()[0][0]\n",
    "sme,np.sqrt(sme)\n",
    "#estGbr = pd.to_numeric(estimates)\n",
    "#estGbr\n",
    "#error = np.asmatrix(train_x - estimates)\n",
    "#sme = (error.T * error / len(error)).tolist()[0][0]\n",
    "#sme"
   ]
  },
  {
   "cell_type": "code",
   "execution_count": 8,
   "metadata": {
    "colab": {
     "base_uri": "https://localhost:8080/",
     "height": 51
    },
    "colab_type": "code",
    "id": "T4QDaAuGXiLI",
    "outputId": "92a9b8c0-1588-4ca2-bfcc-fac5b25b2455"
   },
   "outputs": [
    {
     "name": "stdout",
     "output_type": "stream",
     "text": [
      "RMS:  0.06474169437200514\n",
      "MSE:  0.0041914869901581225\n"
     ]
    }
   ],
   "source": [
    "from sklearn.metrics import mean_squared_error\n",
    "from math import sqrt\n",
    "#print(\"R^2: \", r2_score(y_test,predictions))\n",
    "rms = sqrt(mean_squared_error(y_train, predictions))\n",
    "print(\"RMS: \", rms)\n",
    "mse = mean_squared_error(y_train, predictions)\n",
    "print(\"MSE: \", mse)"
   ]
  },
  {
   "cell_type": "code",
   "execution_count": 9,
   "metadata": {
    "colab": {
     "base_uri": "https://localhost:8080/",
     "height": 575
    },
    "colab_type": "code",
    "id": "P2Q9vMblShgi",
    "outputId": "7c001224-c65b-40a9-ee60-b359bd0dea1d"
   },
   "outputs": [
    {
     "data": {
      "image/png": "[encoded data removed]",
      "text/plain": [
       "<Figure size 432x288 with 1 Axes>"
      ]
     },
     "metadata": {
      "needs_background": "light"
     },
     "output_type": "display_data"
    },
    {
     "data": {
      "text/html": [
       "<div>\n",
       "<style scoped>\n",
       "    .dataframe tbody tr th:only-of-type {\n",
       "        vertical-align: middle;\n",
       "    }\n",
       "\n",
       "    .dataframe tbody tr th {\n",
       "        vertical-align: top;\n",
       "    }\n",
       "\n",
       "    .dataframe thead th {\n",
       "        text-align: right;\n",
       "    }\n",
       "</style>\n",
       "<table border=\"1\" class=\"dataframe\">\n",
       "  <thead>\n",
       "    <tr style=\"text-align: right;\">\n",
       "      <th></th>\n",
       "      <th>error</th>\n",
       "    </tr>\n",
       "  </thead>\n",
       "  <tbody>\n",
       "    <tr>\n",
       "      <th>count</th>\n",
       "      <td>338000.000000</td>\n",
       "    </tr>\n",
       "    <tr>\n",
       "      <th>mean</th>\n",
       "      <td>-0.101751</td>\n",
       "    </tr>\n",
       "    <tr>\n",
       "      <th>std</th>\n",
       "      <td>6.474328</td>\n",
       "    </tr>\n",
       "    <tr>\n",
       "      <th>min</th>\n",
       "      <td>-35.009874</td>\n",
       "    </tr>\n",
       "    <tr>\n",
       "      <th>25%</th>\n",
       "      <td>-3.844674</td>\n",
       "    </tr>\n",
       "    <tr>\n",
       "      <th>50%</th>\n",
       "      <td>-0.296426</td>\n",
       "    </tr>\n",
       "    <tr>\n",
       "      <th>75%</th>\n",
       "      <td>3.290145</td>\n",
       "    </tr>\n",
       "    <tr>\n",
       "      <th>max</th>\n",
       "      <td>36.832903</td>\n",
       "    </tr>\n",
       "  </tbody>\n",
       "</table>\n",
       "</div>"
      ],
      "text/plain": [
       "               error\n",
       "count  338000.000000\n",
       "mean       -0.101751\n",
       "std         6.474328\n",
       "min       -35.009874\n",
       "25%        -3.844674\n",
       "50%        -0.296426\n",
       "75%         3.290145\n",
       "max        36.832903"
      ]
     },
     "execution_count": 9,
     "metadata": {},
     "output_type": "execute_result"
    }
   ],
   "source": [
    "df_errors = pd.DataFrame({'error': [e for ls in errorGBR.tolist() for e in ls]})\n",
    "df_errors.plot.kde()\n",
    "plt.title(\"Error distribution\")\n",
    "plt.xlabel(\"Error\")\n",
    "plt.grid()\n",
    "plt.show()\n",
    "\n",
    "100 * df_errors.describe()"
   ]
  },
  {
   "cell_type": "code",
   "execution_count": 10,
   "metadata": {
    "colab": {
     "base_uri": "https://localhost:8080/",
     "height": 297
    },
    "colab_type": "code",
    "id": "hJH0dvnWTFJq",
    "outputId": "5d7cc468-4642-4645-f94c-9ed8316f4e5c"
   },
   "outputs": [
    {
     "data": {
      "text/html": [
       "<div>\n",
       "<style scoped>\n",
       "    .dataframe tbody tr th:only-of-type {\n",
       "        vertical-align: middle;\n",
       "    }\n",
       "\n",
       "    .dataframe tbody tr th {\n",
       "        vertical-align: top;\n",
       "    }\n",
       "\n",
       "    .dataframe thead th {\n",
       "        text-align: right;\n",
       "    }\n",
       "</style>\n",
       "<table border=\"1\" class=\"dataframe\">\n",
       "  <thead>\n",
       "    <tr style=\"text-align: right;\">\n",
       "      <th></th>\n",
       "      <th>y</th>\n",
       "      <th>y_estimate</th>\n",
       "    </tr>\n",
       "  </thead>\n",
       "  <tbody>\n",
       "    <tr>\n",
       "      <th>count</th>\n",
       "      <td>338000.000000</td>\n",
       "      <td>338000.000000</td>\n",
       "    </tr>\n",
       "    <tr>\n",
       "      <th>mean</th>\n",
       "      <td>2.025067</td>\n",
       "      <td>2.126817</td>\n",
       "    </tr>\n",
       "    <tr>\n",
       "      <th>std</th>\n",
       "      <td>9.539470</td>\n",
       "      <td>5.202204</td>\n",
       "    </tr>\n",
       "    <tr>\n",
       "      <th>min</th>\n",
       "      <td>-38.831757</td>\n",
       "      <td>-21.264011</td>\n",
       "    </tr>\n",
       "    <tr>\n",
       "      <th>25%</th>\n",
       "      <td>-3.078896</td>\n",
       "      <td>-0.356628</td>\n",
       "    </tr>\n",
       "    <tr>\n",
       "      <th>50%</th>\n",
       "      <td>1.352222</td>\n",
       "      <td>1.557259</td>\n",
       "    </tr>\n",
       "    <tr>\n",
       "      <th>75%</th>\n",
       "      <td>6.295351</td>\n",
       "      <td>3.839639</td>\n",
       "    </tr>\n",
       "    <tr>\n",
       "      <th>max</th>\n",
       "      <td>72.686528</td>\n",
       "      <td>50.561720</td>\n",
       "    </tr>\n",
       "  </tbody>\n",
       "</table>\n",
       "</div>"
      ],
      "text/plain": [
       "                   y     y_estimate\n",
       "count  338000.000000  338000.000000\n",
       "mean        2.025067       2.126817\n",
       "std         9.539470       5.202204\n",
       "min       -38.831757     -21.264011\n",
       "25%        -3.078896      -0.356628\n",
       "50%         1.352222       1.557259\n",
       "75%         6.295351       3.839639\n",
       "max        72.686528      50.561720"
      ]
     },
     "execution_count": 10,
     "metadata": {},
     "output_type": "execute_result"
    }
   ],
   "source": [
    "test_results = pd.DataFrame(\n",
    "    {\n",
    "        \"y\": y_train.values,\n",
    "        \"y_estimate\": pd.to_numeric(estimatesGBR)\n",
    "    }\n",
    ")\n",
    "\n",
    "100 * test_results.describe()"
   ]
  },
  {
   "cell_type": "code",
   "execution_count": 11,
   "metadata": {
    "colab": {
     "base_uri": "https://localhost:8080/",
     "height": 281
    },
    "colab_type": "code",
    "id": "-TmphyZOTAI_",
    "outputId": "7cb884de-d9d7-4f95-c4e7-ec8c1ef8b470"
   },
   "outputs": [
    {
     "data": {
      "image/png": "[encoded data removed]",
      "text/plain": [
       "<Figure size 432x288 with 1 Axes>"
      ]
     },
     "metadata": {
      "needs_background": "light"
     },
     "output_type": "display_data"
    }
   ],
   "source": [
    "test_results.y.plot.kde(c='r')\n",
    "test_results.y_estimate.plot.kde(c='b')\n",
    "plt.title(\"Kernel Density Estimation\")\n",
    "plt.grid()\n",
    "plt.show()"
   ]
  },
  {
   "cell_type": "code",
   "execution_count": 0,
   "metadata": {
    "colab": {
     "base_uri": "https://localhost:8080/",
     "height": 281
    },
    "colab_type": "code",
    "id": "Z46inmVZUI6d",
    "outputId": "8118532a-5342-4556-9e1a-b52115518991"
   },
   "outputs": [
    {
     "data": {
      "image/png": "[encoded data removed]",
      "text/plain": [
       "<Figure size 432x288 with 1 Axes>"
      ]
     },
     "metadata": {
      "tags": []
     },
     "output_type": "display_data"
    }
   ],
   "source": [
    "plt.plot(test_results.y, test_results.y_estimate, '.b')\n",
    "plt.plot(test_results.y, test_results.y, '.r')\n",
    "plt.title(\"Estimate VS Original\")\n",
    "plt.grid()\n",
    "plt.show()"
   ]
  },
  {
   "cell_type": "code",
   "execution_count": null,
   "metadata": {
    "colab": {
     "base_uri": "https://localhost:8080/",
     "height": 156
    },
    "colab_type": "code",
    "id": "ZB-YMZDw3iyW",
    "outputId": "21123a8a-b473-4a38-be36-bb0e123b8db5"
   },
   "outputs": [],
   "source": []
  },
  {
   "cell_type": "code",
   "execution_count": null,
   "metadata": {
    "colab": {
     "base_uri": "https://localhost:8080/",
     "height": 34
    },
    "colab_type": "code",
    "id": "8nc8872WC5C2",
    "outputId": "e24b1c89-a106-46e0-fc6c-aa134bcfebea"
   },
   "outputs": [],
   "source": [
    "\n"
   ]
  },
  {
   "cell_type": "code",
   "execution_count": null,
   "metadata": {
    "colab": {},
    "colab_type": "code",
    "id": "xrfHNcuuIWJN"
   },
   "outputs": [],
   "source": []
  },
  {
   "cell_type": "code",
   "execution_count": null,
   "metadata": {
    "colab": {},
    "colab_type": "code",
    "id": "U4ArlwaNdViO"
   },
   "outputs": [],
   "source": []
  },
  {
   "cell_type": "code",
   "execution_count": null,
   "metadata": {},
   "outputs": [],
   "source": []
  }
 ],
 "metadata": {
  "colab": {
   "name": "e7SatAiXGBoostReg.ipynb",
   "provenance": []
  },
  "kernelspec": {
   "display_name": "Python 3",
   "language": "python",
   "name": "python3"
  },
  "language_info": {
   "codemirror_mode": {
    "name": "ipython",
    "version": 3
   },
   "file_extension": ".py",
   "mimetype": "text/x-python",
   "name": "python",
   "nbconvert_exporter": "python",
   "pygments_lexer": "ipython3",
   "version": "3.7.5"
  }
 },
 "nbformat": 4,
 "nbformat_minor": 1
}
