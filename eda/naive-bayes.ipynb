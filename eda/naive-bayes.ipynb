{
 "cells": [
  {
   "cell_type": "markdown",
   "metadata": {},
   "source": [
    "# Naive Bayes"
   ]
  },
  {
   "cell_type": "code",
   "execution_count": 1,
   "metadata": {},
   "outputs": [],
   "source": [
    "import numpy as np\n",
    "import pandas as pd\n",
    "from sklearn import preprocessing\n",
    "from sklearn.naive_bayes import GaussianNB\n",
    "import matplotlib.pyplot as plt\n",
    "\n",
    "\n",
    "# Enable python to import modules from parent directory\n",
    "import sys\n",
    "sys.path.append(\"..\")\n",
    "\n",
    "from src.config import *\n",
    "\n",
    "# https://stackoverflow.com/questions/20625582/how-to-deal-with-settingwithcopywarning-in-pandas\n",
    "pd.options.mode.chained_assignment = None"
   ]
  },
  {
   "cell_type": "code",
   "execution_count": 2,
   "metadata": {},
   "outputs": [],
   "source": [
    "data_path = os.path.join(DATA_CLEAN_PATH, \"ml-curated-data.csv\")\n",
    "data = pd.read_csv(data_path, encoding='latin1')"
   ]
  },
  {
   "cell_type": "code",
   "execution_count": 3,
   "metadata": {
    "scrolled": true
   },
   "outputs": [
    {
     "data": {
      "text/html": [
       "<div>\n",
       "<style scoped>\n",
       "    .dataframe tbody tr th:only-of-type {\n",
       "        vertical-align: middle;\n",
       "    }\n",
       "\n",
       "    .dataframe tbody tr th {\n",
       "        vertical-align: top;\n",
       "    }\n",
       "\n",
       "    .dataframe thead th {\n",
       "        text-align: right;\n",
       "    }\n",
       "</style>\n",
       "<table border=\"1\" class=\"dataframe\">\n",
       "  <thead>\n",
       "    <tr style=\"text-align: right;\">\n",
       "      <th></th>\n",
       "      <th>lag_11</th>\n",
       "      <th>lag_7</th>\n",
       "      <th>lag_6</th>\n",
       "      <th>lag_3</th>\n",
       "      <th>lag_2</th>\n",
       "      <th>lag_1</th>\n",
       "      <th>state</th>\n",
       "      <th>gender</th>\n",
       "      <th>age</th>\n",
       "      <th>wage_increase</th>\n",
       "    </tr>\n",
       "  </thead>\n",
       "  <tbody>\n",
       "    <tr>\n",
       "      <td>0</td>\n",
       "      <td>0.024181</td>\n",
       "      <td>-0.053836</td>\n",
       "      <td>-0.023294</td>\n",
       "      <td>-0.087671</td>\n",
       "      <td>0.059876</td>\n",
       "      <td>0.032627</td>\n",
       "      <td>0.015672</td>\n",
       "      <td>0.01909</td>\n",
       "      <td>0.016816</td>\n",
       "      <td>0.075232</td>\n",
       "    </tr>\n",
       "    <tr>\n",
       "      <td>1</td>\n",
       "      <td>0.001615</td>\n",
       "      <td>-0.023294</td>\n",
       "      <td>-0.063004</td>\n",
       "      <td>0.059876</td>\n",
       "      <td>0.032627</td>\n",
       "      <td>0.075232</td>\n",
       "      <td>0.015672</td>\n",
       "      <td>0.01909</td>\n",
       "      <td>0.016816</td>\n",
       "      <td>-0.021322</td>\n",
       "    </tr>\n",
       "    <tr>\n",
       "      <td>2</td>\n",
       "      <td>0.002881</td>\n",
       "      <td>-0.063004</td>\n",
       "      <td>0.131306</td>\n",
       "      <td>0.032627</td>\n",
       "      <td>0.075232</td>\n",
       "      <td>-0.021322</td>\n",
       "      <td>0.015672</td>\n",
       "      <td>0.01909</td>\n",
       "      <td>0.016816</td>\n",
       "      <td>-0.023162</td>\n",
       "    </tr>\n",
       "    <tr>\n",
       "      <td>3</td>\n",
       "      <td>0.093041</td>\n",
       "      <td>0.131306</td>\n",
       "      <td>-0.087671</td>\n",
       "      <td>0.075232</td>\n",
       "      <td>-0.021322</td>\n",
       "      <td>-0.023162</td>\n",
       "      <td>0.015672</td>\n",
       "      <td>0.01909</td>\n",
       "      <td>0.016816</td>\n",
       "      <td>-0.028393</td>\n",
       "    </tr>\n",
       "    <tr>\n",
       "      <td>4</td>\n",
       "      <td>-0.053836</td>\n",
       "      <td>-0.087671</td>\n",
       "      <td>0.059876</td>\n",
       "      <td>-0.021322</td>\n",
       "      <td>-0.023162</td>\n",
       "      <td>-0.028393</td>\n",
       "      <td>0.015672</td>\n",
       "      <td>0.01909</td>\n",
       "      <td>0.016816</td>\n",
       "      <td>0.028896</td>\n",
       "    </tr>\n",
       "  </tbody>\n",
       "</table>\n",
       "</div>"
      ],
      "text/plain": [
       "     lag_11     lag_7     lag_6     lag_3     lag_2     lag_1     state  \\\n",
       "0  0.024181 -0.053836 -0.023294 -0.087671  0.059876  0.032627  0.015672   \n",
       "1  0.001615 -0.023294 -0.063004  0.059876  0.032627  0.075232  0.015672   \n",
       "2  0.002881 -0.063004  0.131306  0.032627  0.075232 -0.021322  0.015672   \n",
       "3  0.093041  0.131306 -0.087671  0.075232 -0.021322 -0.023162  0.015672   \n",
       "4 -0.053836 -0.087671  0.059876 -0.021322 -0.023162 -0.028393  0.015672   \n",
       "\n",
       "    gender       age  wage_increase  \n",
       "0  0.01909  0.016816       0.075232  \n",
       "1  0.01909  0.016816      -0.021322  \n",
       "2  0.01909  0.016816      -0.023162  \n",
       "3  0.01909  0.016816      -0.028393  \n",
       "4  0.01909  0.016816       0.028896  "
      ]
     },
     "execution_count": 3,
     "metadata": {},
     "output_type": "execute_result"
    }
   ],
   "source": [
    "data.head()"
   ]
  },
  {
   "cell_type": "code",
   "execution_count": 4,
   "metadata": {},
   "outputs": [],
   "source": [
    "naive_bayes = GaussianNB(var_smoothing=6)"
   ]
  },
  {
   "cell_type": "code",
   "execution_count": 5,
   "metadata": {},
   "outputs": [
    {
     "data": {
      "text/plain": [
       "GaussianNB(priors=None, var_smoothing=6)"
      ]
     },
     "execution_count": 5,
     "metadata": {},
     "output_type": "execute_result"
    }
   ],
   "source": [
    "naive_bayes"
   ]
  },
  {
   "cell_type": "code",
   "execution_count": null,
   "metadata": {},
   "outputs": [],
   "source": []
  },
  {
   "cell_type": "code",
   "execution_count": 6,
   "metadata": {},
   "outputs": [],
   "source": [
    "# take only 70 percent of data\n",
    "train_data = data.sample(frac=0.7)"
   ]
  },
  {
   "cell_type": "code",
   "execution_count": 7,
   "metadata": {},
   "outputs": [
    {
     "data": {
      "text/html": [
       "<div>\n",
       "<style scoped>\n",
       "    .dataframe tbody tr th:only-of-type {\n",
       "        vertical-align: middle;\n",
       "    }\n",
       "\n",
       "    .dataframe tbody tr th {\n",
       "        vertical-align: top;\n",
       "    }\n",
       "\n",
       "    .dataframe thead th {\n",
       "        text-align: right;\n",
       "    }\n",
       "</style>\n",
       "<table border=\"1\" class=\"dataframe\">\n",
       "  <thead>\n",
       "    <tr style=\"text-align: right;\">\n",
       "      <th></th>\n",
       "      <th>lag_11</th>\n",
       "      <th>lag_7</th>\n",
       "      <th>lag_6</th>\n",
       "      <th>lag_3</th>\n",
       "      <th>lag_2</th>\n",
       "      <th>lag_1</th>\n",
       "      <th>state</th>\n",
       "      <th>gender</th>\n",
       "      <th>age</th>\n",
       "    </tr>\n",
       "  </thead>\n",
       "  <tbody>\n",
       "    <tr>\n",
       "      <td>0</td>\n",
       "      <td>0.024181</td>\n",
       "      <td>-0.053836</td>\n",
       "      <td>-0.023294</td>\n",
       "      <td>-0.087671</td>\n",
       "      <td>0.059876</td>\n",
       "      <td>0.032627</td>\n",
       "      <td>0.015672</td>\n",
       "      <td>0.01909</td>\n",
       "      <td>0.016816</td>\n",
       "    </tr>\n",
       "    <tr>\n",
       "      <td>1</td>\n",
       "      <td>0.001615</td>\n",
       "      <td>-0.023294</td>\n",
       "      <td>-0.063004</td>\n",
       "      <td>0.059876</td>\n",
       "      <td>0.032627</td>\n",
       "      <td>0.075232</td>\n",
       "      <td>0.015672</td>\n",
       "      <td>0.01909</td>\n",
       "      <td>0.016816</td>\n",
       "    </tr>\n",
       "    <tr>\n",
       "      <td>2</td>\n",
       "      <td>0.002881</td>\n",
       "      <td>-0.063004</td>\n",
       "      <td>0.131306</td>\n",
       "      <td>0.032627</td>\n",
       "      <td>0.075232</td>\n",
       "      <td>-0.021322</td>\n",
       "      <td>0.015672</td>\n",
       "      <td>0.01909</td>\n",
       "      <td>0.016816</td>\n",
       "    </tr>\n",
       "    <tr>\n",
       "      <td>3</td>\n",
       "      <td>0.093041</td>\n",
       "      <td>0.131306</td>\n",
       "      <td>-0.087671</td>\n",
       "      <td>0.075232</td>\n",
       "      <td>-0.021322</td>\n",
       "      <td>-0.023162</td>\n",
       "      <td>0.015672</td>\n",
       "      <td>0.01909</td>\n",
       "      <td>0.016816</td>\n",
       "    </tr>\n",
       "    <tr>\n",
       "      <td>4</td>\n",
       "      <td>-0.053836</td>\n",
       "      <td>-0.087671</td>\n",
       "      <td>0.059876</td>\n",
       "      <td>-0.021322</td>\n",
       "      <td>-0.023162</td>\n",
       "      <td>-0.028393</td>\n",
       "      <td>0.015672</td>\n",
       "      <td>0.01909</td>\n",
       "      <td>0.016816</td>\n",
       "    </tr>\n",
       "  </tbody>\n",
       "</table>\n",
       "</div>"
      ],
      "text/plain": [
       "     lag_11     lag_7     lag_6     lag_3     lag_2     lag_1     state  \\\n",
       "0  0.024181 -0.053836 -0.023294 -0.087671  0.059876  0.032627  0.015672   \n",
       "1  0.001615 -0.023294 -0.063004  0.059876  0.032627  0.075232  0.015672   \n",
       "2  0.002881 -0.063004  0.131306  0.032627  0.075232 -0.021322  0.015672   \n",
       "3  0.093041  0.131306 -0.087671  0.075232 -0.021322 -0.023162  0.015672   \n",
       "4 -0.053836 -0.087671  0.059876 -0.021322 -0.023162 -0.028393  0.015672   \n",
       "\n",
       "    gender       age  \n",
       "0  0.01909  0.016816  \n",
       "1  0.01909  0.016816  \n",
       "2  0.01909  0.016816  \n",
       "3  0.01909  0.016816  \n",
       "4  0.01909  0.016816  "
      ]
     },
     "execution_count": 7,
     "metadata": {},
     "output_type": "execute_result"
    }
   ],
   "source": [
    "train_data_x = data.drop(columns=['wage_increase'])\n",
    "train_data_x.head()"
   ]
  },
  {
   "cell_type": "code",
   "execution_count": 8,
   "metadata": {},
   "outputs": [],
   "source": [
    "train_data_y = train_data['wage_increase']"
   ]
  },
  {
   "cell_type": "code",
   "execution_count": 9,
   "metadata": {},
   "outputs": [
    {
     "data": {
      "text/plain": [
       "pandas.core.series.Series"
      ]
     },
     "execution_count": 9,
     "metadata": {},
     "output_type": "execute_result"
    }
   ],
   "source": [
    "type(train_data_y)"
   ]
  },
  {
   "cell_type": "code",
   "execution_count": 10,
   "metadata": {},
   "outputs": [],
   "source": [
    "# naive bayes cant detect data type\n",
    "train_data_y = np.asarray(data['wage_increase'], dtype=\"|S9\")"
   ]
  },
  {
   "cell_type": "code",
   "execution_count": 11,
   "metadata": {},
   "outputs": [
    {
     "data": {
      "text/plain": [
       "GaussianNB(priors=None, var_smoothing=6)"
      ]
     },
     "execution_count": 11,
     "metadata": {},
     "output_type": "execute_result"
    }
   ],
   "source": [
    "naive_bayes.fit(train_data_x, train_data_y)"
   ]
  },
  {
   "cell_type": "code",
   "execution_count": 12,
   "metadata": {},
   "outputs": [],
   "source": [
    "predicted = pd.to_numeric(naive_bayes.predict([train_data_x.iloc[0]]))"
   ]
  },
  {
   "cell_type": "code",
   "execution_count": 13,
   "metadata": {},
   "outputs": [
    {
     "data": {
      "text/plain": [
       "0.07523202914031679"
      ]
     },
     "execution_count": 13,
     "metadata": {},
     "output_type": "execute_result"
    }
   ],
   "source": [
    "expected = data.iloc[0]['wage_increase']\n",
    "pd.to_numeric(expected)"
   ]
  },
  {
   "cell_type": "code",
   "execution_count": 14,
   "metadata": {},
   "outputs": [
    {
     "data": {
      "text/plain": [
       "0.0226307"
      ]
     },
     "execution_count": 14,
     "metadata": {},
     "output_type": "execute_result"
    }
   ],
   "source": [
    "pd.to_numeric(predicted[0])"
   ]
  },
  {
   "cell_type": "markdown",
   "metadata": {},
   "source": [
    "## Error distribution Naive Bayes"
   ]
  },
  {
   "cell_type": "code",
   "execution_count": 15,
   "metadata": {},
   "outputs": [],
   "source": [
    "estimates_nb = naive_bayes.predict(train_data_x)"
   ]
  },
  {
   "cell_type": "code",
   "execution_count": 16,
   "metadata": {},
   "outputs": [
    {
     "data": {
      "text/plain": [
       "array([b'0.0226307', b'-0.013410', b'-0.001977', ..., b'-0.105102',\n",
       "       b'-0.018273', b'-0.013410'], dtype='|S12')"
      ]
     },
     "execution_count": 16,
     "metadata": {},
     "output_type": "execute_result"
    }
   ],
   "source": [
    "estimates_nb"
   ]
  },
  {
   "cell_type": "code",
   "execution_count": 17,
   "metadata": {},
   "outputs": [],
   "source": [
    "estimates_nb_numeric = pd.to_numeric(estimates_nb)"
   ]
  },
  {
   "cell_type": "code",
   "execution_count": 18,
   "metadata": {},
   "outputs": [],
   "source": [
    "train_data_y_numeric = pd.to_numeric(train_data_y)"
   ]
  },
  {
   "cell_type": "code",
   "execution_count": 19,
   "metadata": {},
   "outputs": [],
   "source": [
    "error_nb = np.asmatrix(train_data_y_numeric - estimates_nb_numeric)"
   ]
  },
  {
   "cell_type": "code",
   "execution_count": 20,
   "metadata": {},
   "outputs": [
    {
     "data": {
      "text/plain": [
       "matrix([[ 0.0526013, -0.007912 , -0.021184 , ...,  0.002647 ,  0.1364204,\n",
       "          0.0371726]])"
      ]
     },
     "execution_count": 20,
     "metadata": {},
     "output_type": "execute_result"
    }
   ],
   "source": [
    "error_nb"
   ]
  },
  {
   "cell_type": "code",
   "execution_count": 21,
   "metadata": {},
   "outputs": [],
   "source": [
    "sme_nb = (error_nb.T * error_nb / len(error_nb)).tolist()[0][0]"
   ]
  },
  {
   "cell_type": "code",
   "execution_count": 22,
   "metadata": {},
   "outputs": [
    {
     "data": {
      "text/plain": [
       "0.0027668967616900006"
      ]
     },
     "execution_count": 22,
     "metadata": {},
     "output_type": "execute_result"
    }
   ],
   "source": [
    "sme_nb"
   ]
  },
  {
   "cell_type": "code",
   "execution_count": 23,
   "metadata": {},
   "outputs": [],
   "source": [
    "sme_nb = np.sqrt(sme_nb)"
   ]
  },
  {
   "cell_type": "code",
   "execution_count": 24,
   "metadata": {},
   "outputs": [],
   "source": [
    "error_list = error_nb.tolist()"
   ]
  },
  {
   "cell_type": "code",
   "execution_count": 25,
   "metadata": {},
   "outputs": [],
   "source": [
    "df_errors = pd.DataFrame({'error': [e for ls in error_nb.tolist() for e in ls]})"
   ]
  },
  {
   "cell_type": "code",
   "execution_count": 26,
   "metadata": {},
   "outputs": [
    {
     "data": {
      "image/png": "[encoded data removed]",
      "text/plain": [
       "<Figure size 432x288 with 1 Axes>"
      ]
     },
     "metadata": {
      "needs_background": "light"
     },
     "output_type": "display_data"
    },
    {
     "data": {
      "text/html": [
       "<div>\n",
       "<style scoped>\n",
       "    .dataframe tbody tr th:only-of-type {\n",
       "        vertical-align: middle;\n",
       "    }\n",
       "\n",
       "    .dataframe tbody tr th {\n",
       "        vertical-align: top;\n",
       "    }\n",
       "\n",
       "    .dataframe thead th {\n",
       "        text-align: right;\n",
       "    }\n",
       "</style>\n",
       "<table border=\"1\" class=\"dataframe\">\n",
       "  <thead>\n",
       "    <tr style=\"text-align: right;\">\n",
       "      <th></th>\n",
       "      <th>error</th>\n",
       "    </tr>\n",
       "  </thead>\n",
       "  <tbody>\n",
       "    <tr>\n",
       "      <td>count</td>\n",
       "      <td>1.126400e+06</td>\n",
       "    </tr>\n",
       "    <tr>\n",
       "      <td>mean</td>\n",
       "      <td>3.136487e+00</td>\n",
       "    </tr>\n",
       "    <tr>\n",
       "      <td>std</td>\n",
       "      <td>2.055004e+01</td>\n",
       "    </tr>\n",
       "    <tr>\n",
       "      <td>min</td>\n",
       "      <td>-8.015744e+02</td>\n",
       "    </tr>\n",
       "    <tr>\n",
       "      <td>25%</td>\n",
       "      <td>-1.226200e+00</td>\n",
       "    </tr>\n",
       "    <tr>\n",
       "      <td>50%</td>\n",
       "      <td>1.655195e+00</td>\n",
       "    </tr>\n",
       "    <tr>\n",
       "      <td>75%</td>\n",
       "      <td>6.927458e+00</td>\n",
       "    </tr>\n",
       "    <tr>\n",
       "      <td>max</td>\n",
       "      <td>9.968993e+02</td>\n",
       "    </tr>\n",
       "  </tbody>\n",
       "</table>\n",
       "</div>"
      ],
      "text/plain": [
       "              error\n",
       "count  1.126400e+06\n",
       "mean   3.136487e+00\n",
       "std    2.055004e+01\n",
       "min   -8.015744e+02\n",
       "25%   -1.226200e+00\n",
       "50%    1.655195e+00\n",
       "75%    6.927458e+00\n",
       "max    9.968993e+02"
      ]
     },
     "execution_count": 26,
     "metadata": {},
     "output_type": "execute_result"
    }
   ],
   "source": [
    "df_errors.plot.kde()\n",
    "plt.title(\"Error distribution\")\n",
    "plt.xlabel(\"Error\")\n",
    "plt.grid()\n",
    "plt.show()\n",
    "\n",
    "100 * df_errors.describe()"
   ]
  },
  {
   "cell_type": "code",
   "execution_count": 27,
   "metadata": {},
   "outputs": [],
   "source": [
    "test = pd.DataFrame({\n",
    "    \"y\": pd.to_numeric(train_data_y),\n",
    "    \"y_estimate\": pd.to_numeric(estimates_nb)\n",
    "})"
   ]
  },
  {
   "cell_type": "code",
   "execution_count": 28,
   "metadata": {},
   "outputs": [
    {
     "data": {
      "text/html": [
       "<div>\n",
       "<style scoped>\n",
       "    .dataframe tbody tr th:only-of-type {\n",
       "        vertical-align: middle;\n",
       "    }\n",
       "\n",
       "    .dataframe tbody tr th {\n",
       "        vertical-align: top;\n",
       "    }\n",
       "\n",
       "    .dataframe thead th {\n",
       "        text-align: right;\n",
       "    }\n",
       "</style>\n",
       "<table border=\"1\" class=\"dataframe\">\n",
       "  <thead>\n",
       "    <tr style=\"text-align: right;\">\n",
       "      <th></th>\n",
       "      <th>y</th>\n",
       "      <th>y_estimate</th>\n",
       "    </tr>\n",
       "  </thead>\n",
       "  <tbody>\n",
       "    <tr>\n",
       "      <td>count</td>\n",
       "      <td>11264.000000</td>\n",
       "      <td>11264.000000</td>\n",
       "    </tr>\n",
       "    <tr>\n",
       "      <td>mean</td>\n",
       "      <td>0.018835</td>\n",
       "      <td>-0.012530</td>\n",
       "    </tr>\n",
       "    <tr>\n",
       "      <td>std</td>\n",
       "      <td>0.220504</td>\n",
       "      <td>0.085134</td>\n",
       "    </tr>\n",
       "    <tr>\n",
       "      <td>min</td>\n",
       "      <td>-8.029154</td>\n",
       "      <td>-6.686025</td>\n",
       "    </tr>\n",
       "    <tr>\n",
       "      <td>25%</td>\n",
       "      <td>-0.033226</td>\n",
       "      <td>-0.013410</td>\n",
       "    </tr>\n",
       "    <tr>\n",
       "      <td>50%</td>\n",
       "      <td>0.010558</td>\n",
       "      <td>-0.013410</td>\n",
       "    </tr>\n",
       "    <tr>\n",
       "      <td>75%</td>\n",
       "      <td>0.061343</td>\n",
       "      <td>-0.013410</td>\n",
       "    </tr>\n",
       "    <tr>\n",
       "      <td>max</td>\n",
       "      <td>9.955583</td>\n",
       "      <td>0.743607</td>\n",
       "    </tr>\n",
       "  </tbody>\n",
       "</table>\n",
       "</div>"
      ],
      "text/plain": [
       "                  y    y_estimate\n",
       "count  11264.000000  11264.000000\n",
       "mean       0.018835     -0.012530\n",
       "std        0.220504      0.085134\n",
       "min       -8.029154     -6.686025\n",
       "25%       -0.033226     -0.013410\n",
       "50%        0.010558     -0.013410\n",
       "75%        0.061343     -0.013410\n",
       "max        9.955583      0.743607"
      ]
     },
     "execution_count": 28,
     "metadata": {},
     "output_type": "execute_result"
    }
   ],
   "source": [
    "test.describe()"
   ]
  },
  {
   "cell_type": "code",
   "execution_count": 29,
   "metadata": {},
   "outputs": [
    {
     "data": {
      "image/png": "[encoded data removed]",
      "text/plain": [
       "<Figure size 432x288 with 1 Axes>"
      ]
     },
     "metadata": {
      "needs_background": "light"
     },
     "output_type": "display_data"
    }
   ],
   "source": [
    "test.y.plot.kde(c='r')\n",
    "test.y_estimate.plot.kde(c='b')\n",
    "plt.title(\"Kernel Density Estimation\")\n",
    "plt.grid()\n",
    "plt.show()"
   ]
  },
  {
   "cell_type": "code",
   "execution_count": 30,
   "metadata": {},
   "outputs": [
    {
     "data": {
      "image/png": "[encoded data removed]",
      "text/plain": [
       "<Figure size 432x288 with 1 Axes>"
      ]
     },
     "metadata": {
      "needs_background": "light"
     },
     "output_type": "display_data"
    }
   ],
   "source": [
    "plt.plot(test.y, test.y_estimate, '.b')\n",
    "plt.plot(test.y, test.y, '.r')\n",
    "plt.title(\"Estimate VS Original\")\n",
    "plt.grid()\n",
    "plt.show()"
   ]
  },
  {
   "cell_type": "markdown",
   "metadata": {},
   "source": [
    "## Test multiple parametes"
   ]
  },
  {
   "cell_type": "code",
   "execution_count": null,
   "metadata": {},
   "outputs": [],
   "source": []
  },
  {
   "cell_type": "code",
   "execution_count": 31,
   "metadata": {},
   "outputs": [],
   "source": [
    "# GaussianNB(priors=None, var_smoothing=100)"
   ]
  },
  {
   "cell_type": "code",
   "execution_count": 32,
   "metadata": {},
   "outputs": [],
   "source": [
    "import random\n",
    "\n",
    "def get_random_params():\n",
    "    return {\n",
    "        'var_smoothing': random.choice((range(1, 100)))\n",
    "    }"
   ]
  },
  {
   "cell_type": "code",
   "execution_count": 73,
   "metadata": {},
   "outputs": [],
   "source": [
    "def perform_fit(df, var_smoothing):\n",
    "    \n",
    "    naive_bayes = GaussianNB(var_smoothing=var_smoothing)\n",
    "    \n",
    "    train = data.sample(frac=0.7)\n",
    "    test = data.drop(train.index)\n",
    "    \n",
    "    train_x = train.drop(columns=['wage_increase'])\n",
    "    train_y = train['wage_increase']\n",
    "    \n",
    "    test_x = test.drop(columns=['wage_increase'])\n",
    "    test_y = test['wage_increase']\n",
    "    \n",
    "    train_data_y = np.asarray(train_y, dtype=\"|S9\")  # change type\n",
    "    nb = naive_bayes.fit(train_x, train_data_y)\n",
    "    \n",
    "    estimates = naive_bayes.predict(test_x)\n",
    "    \n",
    "    train_data_y_numeric = pd.to_numeric(train_data_y)\n",
    "    estimates_numeric = pd.to_numeric(estimates)\n",
    "    \n",
    "    estimates_numeric = estimates_numeric[:, None] # extend dimentions\n",
    "    array_substract = np.subtract(train_data_y_numeric, estimates_numeric)\n",
    "    error = np.asmatrix(array_substract)\n",
    "    sme = (error.T * error / len(error)).tolist()[0][0]\n",
    "    sqrt_sme = np.sqrt(sme)\n",
    "    \n",
    "    return sqrt_sme"
   ]
  },
  {
   "cell_type": "code",
   "execution_count": null,
   "metadata": {},
   "outputs": [],
   "source": []
  },
  {
   "cell_type": "code",
   "execution_count": null,
   "metadata": {},
   "outputs": [],
   "source": []
  },
  {
   "cell_type": "code",
   "execution_count": 74,
   "metadata": {},
   "outputs": [],
   "source": [
    "def get_error_and_smoothing(df, loop_quantity):\n",
    "    \n",
    "    errors_smoothing_array = []\n",
    "\n",
    "    for i in range(1, loop_quantity):\n",
    "        params = get_random_params()\n",
    "        var_smoothing = params.get('var_smoothing')\n",
    "        error = perform_fit(df, var_smoothing)\n",
    "        error_smoothing_dic = {'var_smoothing': var_smoothing, 'error': error}\n",
    "        errors_smoothing_array.append(error_smoothing_dic)\n",
    "    \n",
    "    return errors_smoothing_array"
   ]
  },
  {
   "cell_type": "code",
   "execution_count": 82,
   "metadata": {},
   "outputs": [],
   "source": [
    " errors_smoothing_array = get_error_and_smoothing(data, 1000)"
   ]
  },
  {
   "cell_type": "code",
   "execution_count": 83,
   "metadata": {
    "scrolled": true
   },
   "outputs": [
    {
     "data": {
      "text/plain": [
       "[{'var_smoothing': 46, 'error': 0.11101737296105467},\n",
       " {'var_smoothing': 60, 'error': 0.35988691358912495},\n",
       " {'var_smoothing': 87, 'error': 0.07225947363315867},\n",
       " {'var_smoothing': 14, 'error': 0.047181932364022953},\n",
       " {'var_smoothing': 73, 'error': 0.039996969183281036},\n",
       " {'var_smoothing': 65, 'error': 0.0217441850623284},\n",
       " {'var_smoothing': 11, 'error': 0.22302110706757072},\n",
       " {'var_smoothing': 88, 'error': 0.06999752883432102},\n",
       " {'var_smoothing': 3, 'error': 0.07247889899236275},\n",
       " {'var_smoothing': 63, 'error': 0.09205992383934472},\n",
       " {'var_smoothing': 75, 'error': 0.08249282937372383},\n",
       " {'var_smoothing': 5, 'error': 0.15618899752339868},\n",
       " {'var_smoothing': 69, 'error': 0.07703833523092848},\n",
       " {'var_smoothing': 34, 'error': 0.036902791314631284},\n",
       " {'var_smoothing': 72, 'error': 0.1343349999999999},\n",
       " {'var_smoothing': 22, 'error': 0.07540659587948471},\n",
       " {'var_smoothing': 28, 'error': 0.14869965539808452},\n",
       " {'var_smoothing': 53, 'error': 0.0058441495169276715},\n",
       " {'var_smoothing': 17, 'error': 0.031154128518703056},\n",
       " {'var_smoothing': 26, 'error': 0.03806632991785737},\n",
       " {'var_smoothing': 32, 'error': 0.1373571633170195},\n",
       " {'var_smoothing': 95, 'error': 0.07757364514441717},\n",
       " {'var_smoothing': 85, 'error': 0.13355109101313814},\n",
       " {'var_smoothing': 31, 'error': 0.14713207915474477},\n",
       " {'var_smoothing': 7, 'error': 0.05966924044125885},\n",
       " {'var_smoothing': 24, 'error': 0.073326166477029},\n",
       " {'var_smoothing': 65, 'error': 0.08992493623377654},\n",
       " {'var_smoothing': 31, 'error': 0.03219995319413387},\n",
       " {'var_smoothing': 65, 'error': 0.21244430000000006},\n",
       " {'var_smoothing': 19, 'error': 0.7480349107488645},\n",
       " {'var_smoothing': 29, 'error': 0.10214413408635971},\n",
       " {'var_smoothing': 30, 'error': 0.1304325422283932},\n",
       " {'var_smoothing': 38, 'error': 0.3505766757350357},\n",
       " {'var_smoothing': 6, 'error': 0.05367926222394248},\n",
       " {'var_smoothing': 86, 'error': 0.03941819999999994},\n",
       " {'var_smoothing': 60, 'error': 0.039426228489700864},\n",
       " {'var_smoothing': 80, 'error': 0.03081900000000002},\n",
       " {'var_smoothing': 21, 'error': 0.09792605382810841},\n",
       " {'var_smoothing': 43, 'error': 0.2564165302250373},\n",
       " {'var_smoothing': 38, 'error': 0.2782951610732872},\n",
       " {'var_smoothing': 79, 'error': 0.07848696187022003},\n",
       " {'var_smoothing': 78, 'error': 0.02344561015498348},\n",
       " {'var_smoothing': 89, 'error': 0.08547517134548685},\n",
       " {'var_smoothing': 46, 'error': 0.06428082128039525},\n",
       " {'var_smoothing': 92, 'error': 0.07162200000000014},\n",
       " {'var_smoothing': 40, 'error': 0.039321056734412184},\n",
       " {'var_smoothing': 42, 'error': 0.060680238676334326},\n",
       " {'var_smoothing': 63, 'error': 0.07884670306626292},\n",
       " {'var_smoothing': 55, 'error': 0.07562856624577807},\n",
       " {'var_smoothing': 5, 'error': 0.058365267387168365},\n",
       " {'var_smoothing': 52, 'error': 0.12194837423265105},\n",
       " {'var_smoothing': 92, 'error': 0.17276096467081567},\n",
       " {'var_smoothing': 75, 'error': 0.07135529999999986},\n",
       " {'var_smoothing': 24, 'error': 0.047034374872224324},\n",
       " {'var_smoothing': 95, 'error': 0.17276400000000008},\n",
       " {'var_smoothing': 80, 'error': 0.029226500000000002},\n",
       " {'var_smoothing': 67, 'error': 0.09387899999999982},\n",
       " {'var_smoothing': 62, 'error': 0.08212327808353431},\n",
       " {'var_smoothing': 26, 'error': 0.12011905975157834},\n",
       " {'var_smoothing': 10, 'error': 0.04305406847128469},\n",
       " {'var_smoothing': 69, 'error': 0.026522575543776548},\n",
       " {'var_smoothing': 34, 'error': 0.08014451882750714},\n",
       " {'var_smoothing': 55, 'error': 0.14214292909412868},\n",
       " {'var_smoothing': 85, 'error': 0.10198699999999986},\n",
       " {'var_smoothing': 44, 'error': 0.025351999999999972},\n",
       " {'var_smoothing': 40, 'error': 0.04161061874433146},\n",
       " {'var_smoothing': 75, 'error': 0.1598814980498393},\n",
       " {'var_smoothing': 29, 'error': 0.03625981125208239},\n",
       " {'var_smoothing': 66, 'error': 0.0585945643352955},\n",
       " {'var_smoothing': 66, 'error': 0.07686161578500729},\n",
       " {'var_smoothing': 90, 'error': 0.020681000000000015},\n",
       " {'var_smoothing': 84, 'error': 0.021285407267864882},\n",
       " {'var_smoothing': 39, 'error': 0.07658977823315836},\n",
       " {'var_smoothing': 82, 'error': 0.043570600000000057},\n",
       " {'var_smoothing': 22, 'error': 0.040398648787117936},\n",
       " {'var_smoothing': 8, 'error': 0.05016904318902824},\n",
       " {'var_smoothing': 34, 'error': 0.09580481763983081},\n",
       " {'var_smoothing': 7, 'error': 0.16261919395576294},\n",
       " {'var_smoothing': 83, 'error': 0.15332676693709366},\n",
       " {'var_smoothing': 32, 'error': 0.12937970007864888},\n",
       " {'var_smoothing': 62, 'error': 0.001117573876589813},\n",
       " {'var_smoothing': 18, 'error': 0.0795332498263661},\n",
       " {'var_smoothing': 9, 'error': 0.17218046277839566},\n",
       " {'var_smoothing': 46, 'error': 0.0071983808819342686},\n",
       " {'var_smoothing': 75, 'error': 0.032212188962307854},\n",
       " {'var_smoothing': 81, 'error': 0.0517396853030899},\n",
       " {'var_smoothing': 65, 'error': 0.10010620023472863},\n",
       " {'var_smoothing': 63, 'error': 0.083395660612904},\n",
       " {'var_smoothing': 2, 'error': 0.08102260677807227},\n",
       " {'var_smoothing': 14, 'error': 0.09508567350051841},\n",
       " {'var_smoothing': 95, 'error': 0.1711149321683349},\n",
       " {'var_smoothing': 3, 'error': 0.08840403566431149},\n",
       " {'var_smoothing': 95, 'error': 0.054528085222117405},\n",
       " {'var_smoothing': 77, 'error': 0.05267855693402462},\n",
       " {'var_smoothing': 79, 'error': 0.0731409999999999},\n",
       " {'var_smoothing': 48, 'error': 0.13115541486733243},\n",
       " {'var_smoothing': 54, 'error': 0.003751485356415799},\n",
       " {'var_smoothing': 38, 'error': 0.03742441008636258},\n",
       " {'var_smoothing': 64, 'error': 0.2442482495531779}]"
      ]
     },
     "execution_count": 83,
     "metadata": {},
     "output_type": "execute_result"
    }
   ],
   "source": [
    " errors_smoothing_array"
   ]
  },
  {
   "cell_type": "code",
   "execution_count": null,
   "metadata": {},
   "outputs": [],
   "source": []
  },
  {
   "cell_type": "code",
   "execution_count": 84,
   "metadata": {},
   "outputs": [],
   "source": [
    "var_smoothing_array = []\n",
    "error_array = []\n",
    "\n",
    "for dic in  errors_smoothing_array:\n",
    "\n",
    "    var_smoothing_array.append(dic.get('var_smoothing'))\n",
    "    error_array.append(dic.get('error'))"
   ]
  },
  {
   "cell_type": "code",
   "execution_count": null,
   "metadata": {},
   "outputs": [],
   "source": []
  },
  {
   "cell_type": "code",
   "execution_count": 85,
   "metadata": {},
   "outputs": [],
   "source": [
    "df_errors_sqrt = pd.DataFrame({\n",
    "    'smoothing': var_smoothing_array,\n",
    "    'error_array': error_array \n",
    "})"
   ]
  },
  {
   "cell_type": "code",
   "execution_count": 86,
   "metadata": {},
   "outputs": [
    {
     "data": {
      "text/html": [
       "<div>\n",
       "<style scoped>\n",
       "    .dataframe tbody tr th:only-of-type {\n",
       "        vertical-align: middle;\n",
       "    }\n",
       "\n",
       "    .dataframe tbody tr th {\n",
       "        vertical-align: top;\n",
       "    }\n",
       "\n",
       "    .dataframe thead th {\n",
       "        text-align: right;\n",
       "    }\n",
       "</style>\n",
       "<table border=\"1\" class=\"dataframe\">\n",
       "  <thead>\n",
       "    <tr style=\"text-align: right;\">\n",
       "      <th></th>\n",
       "      <th>smoothing</th>\n",
       "      <th>error_array</th>\n",
       "    </tr>\n",
       "  </thead>\n",
       "  <tbody>\n",
       "    <tr>\n",
       "      <td>0</td>\n",
       "      <td>46</td>\n",
       "      <td>0.111017</td>\n",
       "    </tr>\n",
       "    <tr>\n",
       "      <td>1</td>\n",
       "      <td>60</td>\n",
       "      <td>0.359887</td>\n",
       "    </tr>\n",
       "    <tr>\n",
       "      <td>2</td>\n",
       "      <td>87</td>\n",
       "      <td>0.072259</td>\n",
       "    </tr>\n",
       "    <tr>\n",
       "      <td>3</td>\n",
       "      <td>14</td>\n",
       "      <td>0.047182</td>\n",
       "    </tr>\n",
       "    <tr>\n",
       "      <td>4</td>\n",
       "      <td>73</td>\n",
       "      <td>0.039997</td>\n",
       "    </tr>\n",
       "  </tbody>\n",
       "</table>\n",
       "</div>"
      ],
      "text/plain": [
       "   smoothing  error_array\n",
       "0         46     0.111017\n",
       "1         60     0.359887\n",
       "2         87     0.072259\n",
       "3         14     0.047182\n",
       "4         73     0.039997"
      ]
     },
     "execution_count": 86,
     "metadata": {},
     "output_type": "execute_result"
    }
   ],
   "source": [
    "df_errors_sqrt.head()"
   ]
  },
  {
   "cell_type": "code",
   "execution_count": 87,
   "metadata": {},
   "outputs": [],
   "source": [
    "df_errors_sqrt.to_csv('errors.csv')"
   ]
  },
  {
   "cell_type": "code",
   "execution_count": 88,
   "metadata": {
    "scrolled": true
   },
   "outputs": [
    {
     "data": {
      "image/png": "[encoded data removed]",
      "text/plain": [
       "<Figure size 432x288 with 1 Axes>"
      ]
     },
     "metadata": {
      "needs_background": "light"
     },
     "output_type": "display_data"
    }
   ],
   "source": [
    "df_errors_sqrt.plot.bar(x=\"smoothing\", y=\"error_array\")\n",
    "plt.title(\"Errors comparation\")\n",
    "plt.ylabel(\"sqrt\")\n",
    "plt.show()"
   ]
  },
  {
   "cell_type": "code",
   "execution_count": null,
   "metadata": {},
   "outputs": [],
   "source": []
  },
  {
   "cell_type": "code",
   "execution_count": null,
   "metadata": {},
   "outputs": [],
   "source": [
    "plt.plot(df_errors_sqrt['smoothing'], df_errors_sqrt['error_array'], '.b')\n",
    "# plt.plot(test.y, test.y, '.r')\n",
    "plt.title(\"Estimate VS Original\")\n",
    "plt.grid()\n",
    "plt.show()"
   ]
  },
  {
   "cell_type": "code",
   "execution_count": null,
   "metadata": {},
   "outputs": [],
   "source": [
    "df_errors_sqrt.plot.kde()\n",
    "plt.title(\"Error distribution\")\n",
    "plt.xlabel(\"Error\")\n",
    "plt.grid()\n",
    "plt.show()"
   ]
  },
  {
   "cell_type": "code",
   "execution_count": null,
   "metadata": {},
   "outputs": [],
   "source": []
  },
  {
   "cell_type": "code",
   "execution_count": null,
   "metadata": {},
   "outputs": [],
   "source": []
  }
 ],
 "metadata": {
  "kernelspec": {
   "display_name": "Python 3",
   "language": "python",
   "name": "python3"
  },
  "language_info": {
   "codemirror_mode": {
    "name": "ipython",
    "version": 3
   },
   "file_extension": ".py",
   "mimetype": "text/x-python",
   "name": "python",
   "nbconvert_exporter": "python",
   "pygments_lexer": "ipython3",
   "version": "3.7.3"
  }
 },
 "nbformat": 4,
 "nbformat_minor": 2
}
