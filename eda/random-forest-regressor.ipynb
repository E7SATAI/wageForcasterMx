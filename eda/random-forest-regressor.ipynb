{
 "cells": [
  {
   "cell_type": "code",
   "execution_count": 1,
   "metadata": {},
   "outputs": [],
   "source": [
    "import os\n",
    "import numpy as np\n",
    "import pandas as pd\n",
    "import matplotlib.pyplot as plt"
   ]
  },
  {
   "cell_type": "code",
   "execution_count": 2,
   "metadata": {},
   "outputs": [],
   "source": [
    "from scipy import stats\n",
    "from statsmodels.tsa.stattools import pacf\n",
    "from statsmodels.graphics.tsaplots import plot_acf, plot_pacf\n",
    "from sklearn.preprocessing import LabelEncoder, OneHotEncoder\n",
    "from sklearn.ensemble import RandomForestRegressor\n",
    "from sklearn.datasets import make_regression\n"
   ]
  },
  {
   "cell_type": "code",
   "execution_count": 3,
   "metadata": {},
   "outputs": [],
   "source": [
    "import sys\n",
    "sys.path.append(\"..\")\n",
    "\n",
    "from src.config import *"
   ]
  },
  {
   "cell_type": "markdown",
   "metadata": {},
   "source": [
    "## Import clean data"
   ]
  },
  {
   "cell_type": "code",
   "execution_count": 4,
   "metadata": {},
   "outputs": [
    {
     "data": {
      "text/html": [
       "<div>\n",
       "<style scoped>\n",
       "    .dataframe tbody tr th:only-of-type {\n",
       "        vertical-align: middle;\n",
       "    }\n",
       "\n",
       "    .dataframe tbody tr th {\n",
       "        vertical-align: top;\n",
       "    }\n",
       "\n",
       "    .dataframe thead th {\n",
       "        text-align: right;\n",
       "    }\n",
       "</style>\n",
       "<table border=\"1\" class=\"dataframe\">\n",
       "  <thead>\n",
       "    <tr style=\"text-align: right;\">\n",
       "      <th></th>\n",
       "      <th>lag_11</th>\n",
       "      <th>lag_7</th>\n",
       "      <th>lag_6</th>\n",
       "      <th>lag_3</th>\n",
       "      <th>lag_2</th>\n",
       "      <th>lag_1</th>\n",
       "      <th>state</th>\n",
       "      <th>gender</th>\n",
       "      <th>age</th>\n",
       "      <th>wage_increase</th>\n",
       "    </tr>\n",
       "  </thead>\n",
       "  <tbody>\n",
       "    <tr>\n",
       "      <th>0</th>\n",
       "      <td>0.024181</td>\n",
       "      <td>-0.053836</td>\n",
       "      <td>-0.023294</td>\n",
       "      <td>-0.087671</td>\n",
       "      <td>0.059876</td>\n",
       "      <td>0.032627</td>\n",
       "      <td>0.015672</td>\n",
       "      <td>0.01909</td>\n",
       "      <td>0.016816</td>\n",
       "      <td>0.075232</td>\n",
       "    </tr>\n",
       "    <tr>\n",
       "      <th>1</th>\n",
       "      <td>0.001615</td>\n",
       "      <td>-0.023294</td>\n",
       "      <td>-0.063004</td>\n",
       "      <td>0.059876</td>\n",
       "      <td>0.032627</td>\n",
       "      <td>0.075232</td>\n",
       "      <td>0.015672</td>\n",
       "      <td>0.01909</td>\n",
       "      <td>0.016816</td>\n",
       "      <td>-0.021322</td>\n",
       "    </tr>\n",
       "    <tr>\n",
       "      <th>2</th>\n",
       "      <td>0.002881</td>\n",
       "      <td>-0.063004</td>\n",
       "      <td>0.131306</td>\n",
       "      <td>0.032627</td>\n",
       "      <td>0.075232</td>\n",
       "      <td>-0.021322</td>\n",
       "      <td>0.015672</td>\n",
       "      <td>0.01909</td>\n",
       "      <td>0.016816</td>\n",
       "      <td>-0.023162</td>\n",
       "    </tr>\n",
       "    <tr>\n",
       "      <th>3</th>\n",
       "      <td>0.093041</td>\n",
       "      <td>0.131306</td>\n",
       "      <td>-0.087671</td>\n",
       "      <td>0.075232</td>\n",
       "      <td>-0.021322</td>\n",
       "      <td>-0.023162</td>\n",
       "      <td>0.015672</td>\n",
       "      <td>0.01909</td>\n",
       "      <td>0.016816</td>\n",
       "      <td>-0.028393</td>\n",
       "    </tr>\n",
       "    <tr>\n",
       "      <th>4</th>\n",
       "      <td>-0.053836</td>\n",
       "      <td>-0.087671</td>\n",
       "      <td>0.059876</td>\n",
       "      <td>-0.021322</td>\n",
       "      <td>-0.023162</td>\n",
       "      <td>-0.028393</td>\n",
       "      <td>0.015672</td>\n",
       "      <td>0.01909</td>\n",
       "      <td>0.016816</td>\n",
       "      <td>0.028896</td>\n",
       "    </tr>\n",
       "  </tbody>\n",
       "</table>\n",
       "</div>"
      ],
      "text/plain": [
       "     lag_11     lag_7     lag_6     lag_3     lag_2     lag_1     state  \\\n",
       "0  0.024181 -0.053836 -0.023294 -0.087671  0.059876  0.032627  0.015672   \n",
       "1  0.001615 -0.023294 -0.063004  0.059876  0.032627  0.075232  0.015672   \n",
       "2  0.002881 -0.063004  0.131306  0.032627  0.075232 -0.021322  0.015672   \n",
       "3  0.093041  0.131306 -0.087671  0.075232 -0.021322 -0.023162  0.015672   \n",
       "4 -0.053836 -0.087671  0.059876 -0.021322 -0.023162 -0.028393  0.015672   \n",
       "\n",
       "    gender       age  wage_increase  \n",
       "0  0.01909  0.016816       0.075232  \n",
       "1  0.01909  0.016816      -0.021322  \n",
       "2  0.01909  0.016816      -0.023162  \n",
       "3  0.01909  0.016816      -0.028393  \n",
       "4  0.01909  0.016816       0.028896  "
      ]
     },
     "execution_count": 4,
     "metadata": {},
     "output_type": "execute_result"
    }
   ],
   "source": [
    "# Read data\n",
    "data_path = os.path.join(DATA_CLEAN_PATH, \"ml-curated-data.csv\")\n",
    "dfCurated = pd.read_csv(data_path)\n",
    "dfCurated.head()"
   ]
  },
  {
   "cell_type": "code",
   "execution_count": 5,
   "metadata": {},
   "outputs": [],
   "source": [
    "target_col = \"wage_increase\"\n",
    "features = [c for c in dfCurated.columns if c != target_col]\n",
    "\n",
    "train = dfCurated.sample(frac=0.7)\n",
    "test = dfCurated.drop(train.index)"
   ]
  },
  {
   "cell_type": "code",
   "execution_count": 6,
   "metadata": {},
   "outputs": [],
   "source": [
    "train_x = train.drop(target_col, 1)\n",
    "train_y = train.drop(features, 1)\n",
    "\n",
    "test_x = test.drop(target_col, 1)\n",
    "test_y = test.drop(features, 1)"
   ]
  },
  {
   "cell_type": "code",
   "execution_count": 7,
   "metadata": {},
   "outputs": [
    {
     "data": {
      "text/plain": [
       "RandomForestRegressor(bootstrap=True, criterion='mse', max_depth=2,\n",
       "                      max_features='auto', max_leaf_nodes=None,\n",
       "                      min_impurity_decrease=0.0, min_impurity_split=None,\n",
       "                      min_samples_leaf=1, min_samples_split=2,\n",
       "                      min_weight_fraction_leaf=0.0, n_estimators=100,\n",
       "                      n_jobs=None, oob_score=False, random_state=0, verbose=0,\n",
       "                      warm_start=False)"
      ]
     },
     "execution_count": 7,
     "metadata": {},
     "output_type": "execute_result"
    }
   ],
   "source": [
    "regr = RandomForestRegressor(max_depth=2, random_state=0, n_estimators=100)\n",
    "regr.fit(train_x, np.ravel(train_y)) "
   ]
  },
  {
   "cell_type": "code",
   "execution_count": 8,
   "metadata": {},
   "outputs": [
    {
     "data": {
      "text/plain": [
       "0.011675138030348173"
      ]
     },
     "execution_count": 8,
     "metadata": {},
     "output_type": "execute_result"
    }
   ],
   "source": [
    "estimates = regr.predict(train_x)\n",
    "error = np.asmatrix(train_y.values - estimates)\n",
    "sme = (error.T * error / len(error)).tolist()[0][0]\n",
    "sme"
   ]
  },
  {
   "cell_type": "code",
   "execution_count": 9,
   "metadata": {},
   "outputs": [
    {
     "data": {
      "text/plain": [
       "0.10805155265126075"
      ]
     },
     "execution_count": 9,
     "metadata": {},
     "output_type": "execute_result"
    }
   ],
   "source": [
    "np.sqrt(sme)"
   ]
  },
  {
   "cell_type": "code",
   "execution_count": null,
   "metadata": {},
   "outputs": [],
   "source": [
    "df_errors = pd.DataFrame({'error': [e for ls in error.tolist() for e in ls]})\n",
    "df_errors.plot.kde()\n",
    "plt.title(\"Error distribution\")\n",
    "plt.xlabel(\"Error\")\n",
    "plt.grid()\n",
    "plt.show()\n",
    "\n",
    "100 * df_errors.describe()"
   ]
  },
  {
   "cell_type": "code",
   "execution_count": null,
   "metadata": {},
   "outputs": [],
   "source": [
    "test_results = pd.DataFrame(\n",
    "    {\n",
    "        \"y\": train_y.wage_increase.values,\n",
    "        \"y_estimate\": [e for ls in estimates.tolist() for e in ls]\n",
    "    }\n",
    ")\n",
    "\n",
    "100 * test_results.describe()"
   ]
  },
  {
   "cell_type": "code",
   "execution_count": null,
   "metadata": {},
   "outputs": [],
   "source": [
    "test_results.y.plot.kde(c='r')\n",
    "test_results.y_estimate.plot.kde(c='b')\n",
    "plt.title(\"Kernel Density Estimation\")\n",
    "plt.grid()\n",
    "plt.show()"
   ]
  },
  {
   "cell_type": "code",
   "execution_count": null,
   "metadata": {},
   "outputs": [],
   "source": [
    "plt.plot(test_results.y, test_results.y_estimate, '.b')\n",
    "plt.plot(test_results.y, test_results.y, '.r')\n",
    "plt.title(\"Estimate VS Original\")\n",
    "plt.grid()\n",
    "plt.show()"
   ]
  }
 ],
 "metadata": {
  "kernelspec": {
   "display_name": "Python 3",
   "language": "python",
   "name": "python3"
  },
  "language_info": {
   "codemirror_mode": {
    "name": "ipython",
    "version": 3
   },
   "file_extension": ".py",
   "mimetype": "text/x-python",
   "name": "python",
   "nbconvert_exporter": "python",
   "pygments_lexer": "ipython3",
   "version": "3.5.3"
  }
 },
 "nbformat": 4,
 "nbformat_minor": 2
}
