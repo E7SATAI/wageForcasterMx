{
 "cells": [
  {
   "cell_type": "code",
   "execution_count": 22,
   "metadata": {},
   "outputs": [],
   "source": [
    "import os\n",
    "import random\n",
    "import numpy as np\n",
    "import pandas as pd\n",
    "import matplotlib.pyplot as plt"
   ]
  },
  {
   "cell_type": "code",
   "execution_count": 23,
   "metadata": {},
   "outputs": [],
   "source": [
    "from scipy import stats\n",
    "from statsmodels.tsa.stattools import pacf\n",
    "from statsmodels.graphics.tsaplots import plot_acf, plot_pacf\n",
    "from sklearn.preprocessing import LabelEncoder, OneHotEncoder\n",
    "from sklearn.ensemble import RandomForestRegressor\n",
    "from sklearn.datasets import make_regression\n"
   ]
  },
  {
   "cell_type": "code",
   "execution_count": 24,
   "metadata": {},
   "outputs": [],
   "source": [
    "import sys\n",
    "sys.path.append(\"..\")\n",
    "\n",
    "from src.config import *"
   ]
  },
  {
   "cell_type": "markdown",
   "metadata": {},
   "source": [
    "## Import clean data"
   ]
  },
  {
   "cell_type": "code",
   "execution_count": 25,
   "metadata": {},
   "outputs": [
    {
     "data": {
      "text/html": [
       "<div>\n",
       "<style scoped>\n",
       "    .dataframe tbody tr th:only-of-type {\n",
       "        vertical-align: middle;\n",
       "    }\n",
       "\n",
       "    .dataframe tbody tr th {\n",
       "        vertical-align: top;\n",
       "    }\n",
       "\n",
       "    .dataframe thead th {\n",
       "        text-align: right;\n",
       "    }\n",
       "</style>\n",
       "<table border=\"1\" class=\"dataframe\">\n",
       "  <thead>\n",
       "    <tr style=\"text-align: right;\">\n",
       "      <th></th>\n",
       "      <th>lag_11</th>\n",
       "      <th>lag_7</th>\n",
       "      <th>lag_6</th>\n",
       "      <th>lag_3</th>\n",
       "      <th>lag_2</th>\n",
       "      <th>lag_1</th>\n",
       "      <th>state</th>\n",
       "      <th>gender</th>\n",
       "      <th>age</th>\n",
       "      <th>wage_increase</th>\n",
       "    </tr>\n",
       "  </thead>\n",
       "  <tbody>\n",
       "    <tr>\n",
       "      <th>0</th>\n",
       "      <td>0.024181</td>\n",
       "      <td>-0.053836</td>\n",
       "      <td>-0.023294</td>\n",
       "      <td>-0.087671</td>\n",
       "      <td>0.059876</td>\n",
       "      <td>0.032627</td>\n",
       "      <td>0.015672</td>\n",
       "      <td>0.01909</td>\n",
       "      <td>0.016816</td>\n",
       "      <td>0.075232</td>\n",
       "    </tr>\n",
       "    <tr>\n",
       "      <th>1</th>\n",
       "      <td>0.001615</td>\n",
       "      <td>-0.023294</td>\n",
       "      <td>-0.063004</td>\n",
       "      <td>0.059876</td>\n",
       "      <td>0.032627</td>\n",
       "      <td>0.075232</td>\n",
       "      <td>0.015672</td>\n",
       "      <td>0.01909</td>\n",
       "      <td>0.016816</td>\n",
       "      <td>-0.021322</td>\n",
       "    </tr>\n",
       "    <tr>\n",
       "      <th>2</th>\n",
       "      <td>0.002881</td>\n",
       "      <td>-0.063004</td>\n",
       "      <td>0.131306</td>\n",
       "      <td>0.032627</td>\n",
       "      <td>0.075232</td>\n",
       "      <td>-0.021322</td>\n",
       "      <td>0.015672</td>\n",
       "      <td>0.01909</td>\n",
       "      <td>0.016816</td>\n",
       "      <td>-0.023162</td>\n",
       "    </tr>\n",
       "    <tr>\n",
       "      <th>3</th>\n",
       "      <td>0.093041</td>\n",
       "      <td>0.131306</td>\n",
       "      <td>-0.087671</td>\n",
       "      <td>0.075232</td>\n",
       "      <td>-0.021322</td>\n",
       "      <td>-0.023162</td>\n",
       "      <td>0.015672</td>\n",
       "      <td>0.01909</td>\n",
       "      <td>0.016816</td>\n",
       "      <td>-0.028393</td>\n",
       "    </tr>\n",
       "    <tr>\n",
       "      <th>4</th>\n",
       "      <td>-0.053836</td>\n",
       "      <td>-0.087671</td>\n",
       "      <td>0.059876</td>\n",
       "      <td>-0.021322</td>\n",
       "      <td>-0.023162</td>\n",
       "      <td>-0.028393</td>\n",
       "      <td>0.015672</td>\n",
       "      <td>0.01909</td>\n",
       "      <td>0.016816</td>\n",
       "      <td>0.028896</td>\n",
       "    </tr>\n",
       "  </tbody>\n",
       "</table>\n",
       "</div>"
      ],
      "text/plain": [
       "     lag_11     lag_7     lag_6     lag_3     lag_2     lag_1     state  \\\n",
       "0  0.024181 -0.053836 -0.023294 -0.087671  0.059876  0.032627  0.015672   \n",
       "1  0.001615 -0.023294 -0.063004  0.059876  0.032627  0.075232  0.015672   \n",
       "2  0.002881 -0.063004  0.131306  0.032627  0.075232 -0.021322  0.015672   \n",
       "3  0.093041  0.131306 -0.087671  0.075232 -0.021322 -0.023162  0.015672   \n",
       "4 -0.053836 -0.087671  0.059876 -0.021322 -0.023162 -0.028393  0.015672   \n",
       "\n",
       "    gender       age  wage_increase  \n",
       "0  0.01909  0.016816       0.075232  \n",
       "1  0.01909  0.016816      -0.021322  \n",
       "2  0.01909  0.016816      -0.023162  \n",
       "3  0.01909  0.016816      -0.028393  \n",
       "4  0.01909  0.016816       0.028896  "
      ]
     },
     "execution_count": 25,
     "metadata": {},
     "output_type": "execute_result"
    }
   ],
   "source": [
    "# Read data\n",
    "data_path = os.path.join(DATA_CLEAN_PATH, \"ml-curated-data.csv\")\n",
    "dfCurated = pd.read_csv(data_path)\n",
    "dfCurated.head()"
   ]
  },
  {
   "cell_type": "code",
   "execution_count": 26,
   "metadata": {},
   "outputs": [],
   "source": [
    "target_col = \"wage_increase\"\n",
    "features = [c for c in dfCurated.columns if c != target_col]\n",
    "\n",
    "train = dfCurated.sample(frac=0.7)\n",
    "test = dfCurated.drop(train.index)"
   ]
  },
  {
   "cell_type": "code",
   "execution_count": 27,
   "metadata": {},
   "outputs": [],
   "source": [
    "train_x = train.drop(target_col, 1)\n",
    "train_y = train.drop(features, 1)\n",
    "\n",
    "test_x = test.drop(target_col, 1)\n",
    "test_y = test.drop(features, 1)"
   ]
  },
  {
   "cell_type": "code",
   "execution_count": 28,
   "metadata": {},
   "outputs": [
    {
     "data": {
      "text/plain": [
       "RandomForestRegressor(bootstrap=True, criterion='mse', max_depth=2,\n",
       "                      max_features='auto', max_leaf_nodes=None,\n",
       "                      min_impurity_decrease=0.0, min_impurity_split=None,\n",
       "                      min_samples_leaf=1, min_samples_split=2,\n",
       "                      min_weight_fraction_leaf=0.0, n_estimators=100,\n",
       "                      n_jobs=None, oob_score=False, random_state=0, verbose=0,\n",
       "                      warm_start=False)"
      ]
     },
     "execution_count": 28,
     "metadata": {},
     "output_type": "execute_result"
    }
   ],
   "source": [
    "regr = RandomForestRegressor(max_depth=2, random_state=0, n_estimators=100)\n",
    "regr.fit(train_x, np.ravel(train_y)) "
   ]
  },
  {
   "cell_type": "code",
   "execution_count": 29,
   "metadata": {},
   "outputs": [
    {
     "data": {
      "text/plain": [
       "0.00962477555145811"
      ]
     },
     "execution_count": 29,
     "metadata": {},
     "output_type": "execute_result"
    }
   ],
   "source": [
    "estimates = regr.predict(train_x)\n",
    "error = np.asmatrix(train_y.values - estimates)\n",
    "sme = (error.T * error / len(error)).tolist()[0][0]\n",
    "sme"
   ]
  },
  {
   "cell_type": "code",
   "execution_count": 30,
   "metadata": {},
   "outputs": [
    {
     "data": {
      "text/plain": [
       "0.09810594044938416"
      ]
     },
     "execution_count": 30,
     "metadata": {},
     "output_type": "execute_result"
    }
   ],
   "source": [
    "np.sqrt(sme)"
   ]
  },
  {
   "cell_type": "code",
   "execution_count": 39,
   "metadata": {},
   "outputs": [
    {
     "data": {
      "text/plain": [
       "{'criterion': 'mse', 'max_depth': 2, 'n_estimators': 71, 'random_state': 71}"
      ]
     },
     "execution_count": 39,
     "metadata": {},
     "output_type": "execute_result"
    }
   ],
   "source": [
    "def get_random_params():\n",
    "    return {\n",
    "        \"n_estimators\": random.choice((range(10, 100))),\n",
    "        \"criterion\": random.choice([\"mse\", \"mae\"]),\n",
    "        \"max_depth\": random.choice(list(range(1, 10)) + [None]),\n",
    "        \"random_state\": random.choice((range(10, 100)))\n",
    "    }\n",
    "\n",
    "param = get_random_params()\n",
    "param\n"
   ]
  },
  {
   "cell_type": "code",
   "execution_count": 40,
   "metadata": {},
   "outputs": [],
   "source": [
    "def get_rsme(df, param, target_col, features):\n",
    "    train = df.sample(frac=0.7)\n",
    "    test = df.drop(train.index)\n",
    "    train_x = train.drop(target_col, 1)\n",
    "    train_y = train.drop(features, 1)\n",
    "    test_x = test.drop(target_col, 1)\n",
    "    test_y = test.drop(features, 1)\n",
    "    model= RandomForestRegressor(**param)\n",
    "    model.fit(train_x, np.ravel(train_y))\n",
    "    estimates = model.predict(train_x)\n",
    "    error = np.asmatrix(train_y.values - estimates)\n",
    "    sme = (error.T * error / len(error)).tolist()[0][0]\n",
    "    return np.sqrt(sme)"
   ]
  },
  {
   "cell_type": "code",
   "execution_count": 41,
   "metadata": {},
   "outputs": [
    {
     "data": {
      "text/plain": [
       "0.09537525672600237"
      ]
     },
     "execution_count": 41,
     "metadata": {},
     "output_type": "execute_result"
    }
   ],
   "source": [
    "get_rsme(dfCurated, param, target_col=\"wage_increase\", features=[c for c in dfCurated.columns if c != \"wage_increase\"])"
   ]
  },
  {
   "cell_type": "code",
   "execution_count": null,
   "metadata": {},
   "outputs": [],
   "source": [
    "result = []\n",
    "for i in range(1000):\n",
    "    param = get_random_params()\n",
    "    rsme = get_rsme(dfCurated, param, target_col=\"wage_increase\", features=[c for c in dfCurated.columns if c != \"wage_increase\"])\n",
    "    param[\"rsme\"] = rsme\n",
    "    result.append(param)"
   ]
  },
  {
   "cell_type": "code",
   "execution_count": 53,
   "metadata": {},
   "outputs": [
    {
     "data": {
      "text/html": [
       "<div>\n",
       "<style scoped>\n",
       "    .dataframe tbody tr th:only-of-type {\n",
       "        vertical-align: middle;\n",
       "    }\n",
       "\n",
       "    .dataframe tbody tr th {\n",
       "        vertical-align: top;\n",
       "    }\n",
       "\n",
       "    .dataframe thead th {\n",
       "        text-align: right;\n",
       "    }\n",
       "</style>\n",
       "<table border=\"1\" class=\"dataframe\">\n",
       "  <thead>\n",
       "    <tr style=\"text-align: right;\">\n",
       "      <th></th>\n",
       "      <th>criterion</th>\n",
       "      <th>max_depth</th>\n",
       "      <th>n_estimators</th>\n",
       "      <th>random_state</th>\n",
       "      <th>rsme</th>\n",
       "    </tr>\n",
       "  </thead>\n",
       "  <tbody>\n",
       "    <tr>\n",
       "      <th>0</th>\n",
       "      <td>mae</td>\n",
       "      <td>9.0</td>\n",
       "      <td>27</td>\n",
       "      <td>48</td>\n",
       "      <td>0.161175</td>\n",
       "    </tr>\n",
       "    <tr>\n",
       "      <th>1</th>\n",
       "      <td>mae</td>\n",
       "      <td>3.0</td>\n",
       "      <td>93</td>\n",
       "      <td>17</td>\n",
       "      <td>0.094977</td>\n",
       "    </tr>\n",
       "    <tr>\n",
       "      <th>2</th>\n",
       "      <td>mae</td>\n",
       "      <td>3.0</td>\n",
       "      <td>79</td>\n",
       "      <td>15</td>\n",
       "      <td>0.111785</td>\n",
       "    </tr>\n",
       "    <tr>\n",
       "      <th>3</th>\n",
       "      <td>mse</td>\n",
       "      <td>NaN</td>\n",
       "      <td>51</td>\n",
       "      <td>63</td>\n",
       "      <td>0.108328</td>\n",
       "    </tr>\n",
       "    <tr>\n",
       "      <th>4</th>\n",
       "      <td>mae</td>\n",
       "      <td>6.0</td>\n",
       "      <td>36</td>\n",
       "      <td>35</td>\n",
       "      <td>0.125122</td>\n",
       "    </tr>\n",
       "  </tbody>\n",
       "</table>\n",
       "</div>"
      ],
      "text/plain": [
       "  criterion  max_depth  n_estimators  random_state      rsme\n",
       "0       mae        9.0            27            48  0.161175\n",
       "1       mae        3.0            93            17  0.094977\n",
       "2       mae        3.0            79            15  0.111785\n",
       "3       mse        NaN            51            63  0.108328\n",
       "4       mae        6.0            36            35  0.125122"
      ]
     },
     "execution_count": 53,
     "metadata": {},
     "output_type": "execute_result"
    }
   ],
   "source": [
    "result_df = pd.DataFrame(result)\n",
    "result_df.head()"
   ]
  },
  {
   "cell_type": "code",
   "execution_count": null,
   "metadata": {},
   "outputs": [],
   "source": [
    "output_path = os.path.join(DATA_CLEAN_PATH, \"param_random_forest.csv\")\n",
    "result.to_csv(output_path)"
   ]
  }
 ],
 "metadata": {
  "kernelspec": {
   "display_name": "Python 3",
   "language": "python",
   "name": "python3"
  }
 },
 "nbformat": 4,
 "nbformat_minor": 2
}
